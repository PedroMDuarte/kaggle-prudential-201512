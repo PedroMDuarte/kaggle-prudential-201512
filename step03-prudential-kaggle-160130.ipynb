{
 "cells": [
  {
   "cell_type": "code",
   "execution_count": 66,
   "metadata": {
    "collapsed": true
   },
   "outputs": [],
   "source": [
    "%matplotlib inline\n",
    "import numpy as np\n",
    "import matplotlib.pyplot as plt\n",
    "import pandas as pd\n",
    "from ml_metrics import quadratic_weighted_kappa\n",
    "import xgboost as xgb\n",
    "import datetime as dt\n",
    "import sklearn\n",
    "from sklearn.cross_validation import train_test_split\n",
    "from sklearn.cross_validation import KFold\n",
    "import functools\n",
    "from sklearn.metrics import confusion_matrix\n",
    "from scipy import optimize\n",
    "\n",
    "data = pd.read_csv('data_imputed.csv')"
   ]
  },
  {
   "cell_type": "markdown",
   "metadata": {},
   "source": [
    "### The following functions remained unchanged from the work in step 02:"
   ]
  },
  {
   "cell_type": "code",
   "execution_count": 55,
   "metadata": {
    "collapsed": true
   },
   "outputs": [],
   "source": [
    "def xg_eval_linear_pred(features, labels, test_features, test_labels, param, num_round, classify_function):\n",
    "    \n",
    "    features = np.asarray(features)\n",
    "    labels = np.asarray(labels)\n",
    "    \n",
    "    test_features = np.asarray(test_features)\n",
    "    test_labels = np.asarray(test_labels)\n",
    "    \n",
    "\n",
    "    xg_train = xgb.DMatrix(features, labels)\n",
    "    xg_test = xgb.DMatrix(test_features, test_labels)\n",
    "\n",
    "    bst = xgb.train(param, xg_train, num_round)\n",
    "    \n",
    "    train_prediction = classify_function(bst.predict(xg_train))\n",
    "    test_prediction = classify_function(bst.predict(xg_test))\n",
    "    \n",
    "    return (bst,\n",
    "            quadratic_weighted_kappa(labels,np.array(train_prediction)),\n",
    "            quadratic_weighted_kappa(test_labels,np.array(test_prediction)), test_labels, test_prediction)\n",
    "\n",
    "\n",
    "def make_plot_eval(y, yhat, text, kappa_text):\n",
    "    fig,ax = plt.subplots(1,2, figsize=(9., 4.))\n",
    "    \n",
    "    y = pd.Series(y)\n",
    "    yhat = pd.Series(yhat)\n",
    "\n",
    "    yhist = y.value_counts()\n",
    "    yhathist = yhat.value_counts()\n",
    "\n",
    "    ax[0].scatter(yhist.index, yhist.values, s=40, c='blue', alpha=0.5, label='response')\n",
    "    ax[0].scatter(yhathist.index-0.1, yhathist.values, s=40, c='green', alpha=0.5, label='prediction')\n",
    "    \n",
    "    ax[0].legend(loc='upper left', prop={'size':10})\n",
    "    ax[0].set_xlabel('classification')\n",
    "    ax[0].set_ylabel('frequency')\n",
    "    \n",
    "    \n",
    "    \n",
    "    ax[0].text(0.99, 1.01, text, fontsize=9,\n",
    "            ha='right', va='bottom', transform=ax[0].transAxes)\n",
    "    \n",
    "    cm = confusion_matrix(y, yhat)\n",
    "    print(cm)\n",
    "    \n",
    "    im = ax[1].imshow(cm, interpolation='nearest', cmap=plt.cm.Blues)\n",
    "    ax[1].set_xlabel('true label')\n",
    "    ax[1].set_ylabel('predicted label')    \n",
    "    plt.colorbar(im)\n",
    "    \n",
    "    ax[1].text(0.99, 1.01, kappa_text, fontsize=12,\n",
    "            ha='right', va='bottom', transform=ax[1].transAxes)\n",
    "\n",
    "    fname = 'plots/classification_' + text.replace(':', '').replace(', ', '_').replace(' ','') + '.png'\n",
    "    fig.savefig(fname, dpi=150)\n",
    "\n",
    "\n",
    "def learning(data, eval_function, xgbparam, num_round, nsamples=[10000, 25000]):\n",
    "\n",
    "    features = data[data['train?'] == True].drop(['train?', 'Id', 'Response'], axis=1)\n",
    "    labels = data[data['train?'] == True]['Response'].astype('int') -1 \n",
    "    \n",
    "    text = \"{} eta:{:0.2f}, max_depth:{:d},\\nmin_child_weight:{:0.2f}, num_round:{:02d}\".format(\n",
    "        xgbparam['objective'],\n",
    "        xgbparam['eta'], xgbparam['max_depth'], xgbparam['min_child_weight'], num_round)\n",
    "\n",
    "    # Xtest, ytest will be saved for evaluating over a constant sized set:\n",
    "    Xtrain, Xtest, ytrain, ytest = train_test_split(features, labels, train_size=0.70, random_state=17)\n",
    "\n",
    "\n",
    "    # The number of samples taken out of X for training will be varied\n",
    "    nsamples.append(len(Xtrain))\n",
    "\n",
    "    results = []\n",
    "    for n in nsamples:\n",
    "        print(\"Working on n = {:05d}  at {:%H:%M:%S}\".format(n, dt.datetime.now()))\n",
    "        if n < len(Xtrain):\n",
    "            Xsample, _, ysample, _ = train_test_split(Xtrain, ytrain, test_size=n, random_state=42)\n",
    "        else:\n",
    "            Xsample, ysample = Xtrain, ytrain\n",
    "            \n",
    "        model, train_qwk, test_qwk, y, yhat = eval_function(Xsample, ysample, Xtest, ytest, xgbparam, num_round)\n",
    "        results.append([n, train_qwk, test_qwk])\n",
    "        \n",
    "        print(\"num categories = {:d}\".format(len(np.unique(yhat))))\n",
    "        \n",
    "        print(\"train_qwk: {:0.4f}, test_qwk: {:0.4f}\".format(train_qwk, test_qwk))\n",
    "                          \n",
    "        if n == len(Xtrain):\n",
    "            kappa_text = '$\\kappa_{{q,\\mathrm{{train}}}} = {:0.4f}$, '.format(train_qwk) + \\\n",
    "            '$\\kappa_{{q,\\mathrm{{test}}}} = {:0.4f}$'.format(test_qwk)\n",
    "            make_plot_eval(y, yhat, text, kappa_text)\n",
    "    \n",
    "    df = pd.DataFrame(results, columns=['num_samples', 'train_qwk', 'test_qwk'])\n",
    "    \n",
    "    if len(nsamples) > 1:\n",
    "        make_plot_learning(df, text, num_round)\n",
    "    \n",
    "    return model, df\n",
    "\n",
    "\n",
    "def make_plot_learning(df, text, num_round):\n",
    "    fig,ax = plt.subplots(1,1)\n",
    "\n",
    "    ax.scatter(df['num_samples'], df['train_qwk'], s=40, c='blue', alpha=0.5, label='train set')\n",
    "    ax.scatter(df['num_samples'], df['test_qwk'], s=40, c='green', alpha=0.5, label='test set')\n",
    "    \n",
    "    ax.legend(loc='upper left', prop={'size':10})\n",
    "    ax.set_xlabel('number of training samples')\n",
    "    ax.set_ylabel('quadratic weighted kappa')\n",
    "    \n",
    "\n",
    "    ax.text(0.99, 1.01, text, fontsize=9,\n",
    "            ha='right', va='bottom', transform=ax.transAxes)\n",
    "    \n",
    "    fname = 'plots/learning_' + text.replace(':', '').replace(', ', '_').replace(' ','') + '.png'\n",
    "    fig.savefig(fname, dpi=150)\n"
   ]
  },
  {
   "cell_type": "markdown",
   "metadata": {},
   "source": [
    "# In step 03, we will allow optimization of the score cuttofs used for classification\n",
    "\n",
    "In step 02 we concluded that using a reg:linear objective for xgboost was a better choice for this problem than using the multi:softmax objective.  To obtain classification from an obtained score we simply rounded to the nearest integer in the range [0, 7]. In step 03 we will implement the possibility of varying the cutoffs used for classification.  \n",
    "\n",
    "We will start out by defining a cutoff classifier that receives a list of 8 cutoffs.  When all of the numbers in the list are equal, our cutoff classifier should behave just like the nearest integer classifier:"
   ]
  },
  {
   "cell_type": "code",
   "execution_count": 49,
   "metadata": {
    "collapsed": true
   },
   "outputs": [],
   "source": [
    "def classify_with_cutoffs(predicted_score, cutoffs):\n",
    "    \n",
    "    predicted_score = np.asarray(predicted_score)\n",
    "    cutoffs = np.asarray(cutoffs)\n",
    "    \n",
    "    # cutoffs are 8 numbers\n",
    "    assert len(cutoffs) == 8\n",
    "    \n",
    "    min_score = -0.5\n",
    "    max_score = 7.5\n",
    "    ds = max_score - min_score\n",
    "    \n",
    "    total_cutoff_weight = sum(cutoffs)\n",
    "    \n",
    "    cut_points = [min_score]\n",
    "    for cut in cutoffs:\n",
    "        cut_points.append(cut_points[-1] + ds * cut/total_cutoff_weight)\n",
    "    cut_points = cut_points[1:-1]\n",
    "    \n",
    "    clipped  = np.clip(predicted_score, -0.49, 7.49)\n",
    "    predicted_class = np.digitize(clipped, cut_points).astype('int')\n",
    "    \n",
    "    return predicted_class\n"
   ]
  },
  {
   "cell_type": "code",
   "execution_count": 54,
   "metadata": {
    "collapsed": false
   },
   "outputs": [
    {
     "name": "stdout",
     "output_type": "stream",
     "text": [
      "\n",
      "cutoffs = [10.0, 10.0, 10.0, 10.0, 10.0, 10.0, 10.0, 10.0]\n"
     ]
    },
    {
     "data": {
      "text/plain": [
       "<matplotlib.text.Text at 0x7ff82813c9e8>"
      ]
     },
     "execution_count": 54,
     "metadata": {},
     "output_type": "execute_result"
    },
    {
     "data": {
      "image/png": "[encoded data removed]",
      "text/plain": [
       "<matplotlib.figure.Figure at 0x7ff82807c5f8>"
      ]
     },
     "metadata": {},
     "output_type": "display_data"
    }
   ],
   "source": [
    "se = pd.Series(np.random.rand(500)*9 - 0.5, name='random')\n",
    "\n",
    "cutoffs = [10.] * 8\n",
    "print(\"\\ncutoffs = {}\".format(cutoffs))\n",
    "classes = pd.Series(classify_with_cutoffs(se, cutoffs))\n",
    "nearest_int_classes = np.rint(np.clip(se, -0.49, 7.49))\n",
    "\n",
    "np.testing.assert_array_equal(classes, nearest_int_classes)\n",
    "                    \n",
    "fig, ax = plt.subplots(1,1)\n",
    "ax.scatter(se, classes, s=30, c='blue', alpha=0.2, label='cutoff')\n",
    "ax.scatter(se, nearest_int_classes + 0.2, s=30, c='green', alpha=0.2, label='nearest int')\n",
    "\n",
    "ax.legend(loc='upper left', prop={'size':10})\n",
    "ax.set_xlabel('predicted score')\n",
    "ax.set_ylabel('predicted category')"
   ]
  },
  {
   "cell_type": "markdown",
   "metadata": {},
   "source": [
    "### We now will proceed to define a way to learn what the best cutoffs are for a given training set.   \n",
    "\n",
    "To get started we split the data into training samples and validation set and fit a model.  From the model we obtain the xgboost scores for the training samples and the test set"
   ]
  },
  {
   "cell_type": "markdown",
   "metadata": {},
   "source": [
    "To test the cutoff learning we fit a model and use nearest int to classify: "
   ]
  },
  {
   "cell_type": "code",
   "execution_count": 151,
   "metadata": {
    "collapsed": false
   },
   "outputs": [
    {
     "name": "stdout",
     "output_type": "stream",
     "text": [
      "[[  10  227  377  440  404  333   98    0]\n",
      " [   3  243  392  474  419  308   96    0]\n",
      " [   0   19  188   66   28   12    8    0]\n",
      " [   0    6  198  149   27   33   30    0]\n",
      " [   0   17  222  724  439  170   45    0]\n",
      " [   0   11  153  538 1411  979  206    0]\n",
      " [   0    0   11  188  801 1051  408    0]\n",
      " [   0    0    1   33  393 2220 3206    0]]\n"
     ]
    },
    {
     "data": {
      "image/png": "[encoded data removed]",
      "text/plain": [
       "<matplotlib.figure.Figure at 0x7ff83a9ad630>"
      ]
     },
     "metadata": {},
     "output_type": "display_data"
    }
   ],
   "source": [
    "# xgboost parameters:\n",
    "param = {}\n",
    "\n",
    "# use softmax multi-class classification\n",
    "param['objective'] = 'reg:linear'\n",
    "\n",
    "param['eta'] = 0.05\n",
    "param['max_depth'] = 8\n",
    "param['min_child_weight'] = 200\n",
    "\n",
    "param['silent'] = 1\n",
    "param['nthread'] = 1\n",
    "\n",
    "\n",
    "def classify(prediction):\n",
    "    return np.rint(np.clip(prediction, -0.49, 7.49))\n",
    "\n",
    "\n",
    "features = data[data['train?'] == True].drop(['train?', 'Id', 'Response'], axis=1)\n",
    "labels = data[data['train?'] == True]['Response'].astype('int') -1 \n",
    "\n",
    "text = \"{} eta:{:0.2f}, max_depth:{:d},\\nmin_child_weight:{:0.2f}, num_round:{:02d}\".format(\n",
    "    param['objective'],\n",
    "    param['eta'], param['max_depth'], param['min_child_weight'], num_round)\n",
    "\n",
    "# Xtest, ytest will be saved for evaluating over a constant sized set:\n",
    "Xtrain, Xtest, ytrain, ytest = train_test_split(features, labels, train_size=0.70, random_state=17)\n",
    "\n",
    "\n",
    "Xsample, ysample = Xtrain, ytrain\n",
    "\n",
    "num_round = 50\n",
    "eval_function = functools.partial(xg_eval_linear_pred, classify_function=classify)\n",
    "model, train_qwk, test_qwk, y, yhat = eval_function(Xsample, ysample, Xtest, ytest, param, num_round)\n",
    "\n",
    "xg_sample = xgb.DMatrix(Xsample, ysample)\n",
    "xg_test = xgb.DMatrix(Xtest, ytest)\n",
    "\n",
    "ysamsple_score = model.predict(xg_sample)\n",
    "ytest_score = model.predict(xg_test)\n",
    "\n",
    "\n",
    "\n",
    "kappa_text = '$\\kappa_{{q,\\mathrm{{train}}}} = {:0.4f}$, '.format(train_qwk) + \\\n",
    "'$\\kappa_{{q,\\mathrm{{test}}}} = {:0.4f}$'.format(test_qwk)\n",
    "make_plot_eval(y, yhat, text, kappa_text)\n"
   ]
  },
  {
   "cell_type": "markdown",
   "metadata": {},
   "source": [
    "We now define the procedure to learn the cutoffs:"
   ]
  },
  {
   "cell_type": "code",
   "execution_count": 152,
   "metadata": {
    "collapsed": false
   },
   "outputs": [],
   "source": [
    "def learn_cutoffs(predicted_score, labels, *, verbose=False):\n",
    "    \n",
    "    predicted_score = np.asarray(predicted_score, dtype=np.float64)\n",
    "    labels = np.asarray(labels, dtype=np.float64)\n",
    "    \n",
    "    \n",
    "    start_cutoffs = [10.]*8\n",
    "    \n",
    "    def error_function(p, x, y):\n",
    "        return classify_with_cutoffs(x, p).astype(np.float64) - y \n",
    "    \n",
    "    just = 15\n",
    "    if verbose:\n",
    "        print(\"{} : {}\".format(\n",
    "                \"start error\".rjust(just),\n",
    "                np.std(error_function(start_cutoffs, predicted_score, labels))))\n",
    "    \n",
    "    \n",
    "    pfit, pcov, infodict, errmsg, success = \\\n",
    "        optimize.leastsq(error_function, start_cutoffs,\n",
    "                         args=(predicted_score, labels), full_output=1, epsfcn=1.0)\n",
    "        \n",
    "    if verbose:\n",
    "        prec = np.get_printoptions()['precision']\n",
    "        np.set_printoptions(precision=4)\n",
    "        print(\"{} : {}\".format(\"num func eval\".rjust(just), infodict['nfev']))\n",
    "        print(\"{} : {}\".format(\"pfit\".rjust(just), pfit))\n",
    "        np.set_printoptions(prec)\n",
    "    \n",
    "    if verbose:\n",
    "        print(\"{} : {}\\n\".format(\n",
    "                \"final error\".rjust(just),\n",
    "                np.std(error_function(pfit, predicted_score, labels))))\n",
    "        \n",
    "        \n",
    "    return pfit"
   ]
  },
  {
   "cell_type": "markdown",
   "metadata": {},
   "source": [
    "We use the learning procedure to obtain classifications for both the training and testing sets:"
   ]
  },
  {
   "cell_type": "code",
   "execution_count": 153,
   "metadata": {
    "collapsed": false
   },
   "outputs": [
    {
     "name": "stdout",
     "output_type": "stream",
     "text": [
      "    start error : 1.882953645303364\n",
      "  num func eval : 63\n",
      "           pfit : [ 17.6735  12.0431  10.4977  10.1132  10.269    9.3909  11.5362  20.9923]\n",
      "    final error : 1.8645676465010819\n",
      "\n",
      "[[  60  285  322  357  336  275  229   25]\n",
      " [  37  327  328  385  354  267  215   22]\n",
      " [   0   58  156   57   24   11   14    1]\n",
      " [   0   16  229   95   35   21   40    7]\n",
      " [   1   57  243  580  450  154  126    6]\n",
      " [   0   37  160  434 1001 1074  565   27]\n",
      " [   0    1   14  147  546  791  894   66]\n",
      " [   0    0    1   24  193  837 3621 1177]]\n"
     ]
    },
    {
     "data": {
      "image/png": "[encoded data removed]",
      "text/plain": [
       "<matplotlib.figure.Figure at 0x7ff83ad27668>"
      ]
     },
     "metadata": {},
     "output_type": "display_data"
    }
   ],
   "source": [
    "best_cutoffs = learn_cutoffs(ysamsple_score, ysample, verbose=True)\n",
    "\n",
    "ytrain_cutoffs = classify_with_cutoffs(ysamsple_score, best_cutoffs)\n",
    "ytest_cutoffs = classify_with_cutoffs(ytest_score, best_cutoffs)\n",
    "\n",
    "train_cutoffs_qwk = quadratic_weighted_kappa(np.asarray(ysample), ytrain_cutoffs)\n",
    "test_cutoffs_qwk = quadratic_weighted_kappa(np.asarray(ytest), ytest_cutoffs)\n",
    "\n",
    "kappa_text = '$\\kappa_{{q,\\mathrm{{train}}}} = {:0.4f}$, '.format(train_cutoffs_qwk) + \\\n",
    "'$\\kappa_{{q,\\mathrm{{test}}}} = {:0.4f}$'.format(test_cutoffs_qwk)\n",
    "make_plot_eval(y, ytest_cutoffs, text, kappa_text)"
   ]
  },
  {
   "cell_type": "markdown",
   "metadata": {},
   "source": [
    "## Success,  the quadratic weighted kappa for both the training and testing sets went up consisderably!\n",
    "\n",
    "Below we show a plot of waht the cutoffs did with our scored data.   \n",
    "\n",
    "In this case notice that the upper end of the range of predicted scores is not that high, only goes up right above 6.  This has to do with the fact that we used only 50 boosting rounds to train this model.  \n",
    "\n",
    "We should now try the cutoff optimization for a model with a larger number of boosting rounds. "
   ]
  },
  {
   "cell_type": "code",
   "execution_count": 154,
   "metadata": {
    "collapsed": false
   },
   "outputs": [
    {
     "data": {
      "text/plain": [
       "<matplotlib.text.Text at 0x7ff80d5c3908>"
      ]
     },
     "execution_count": 154,
     "metadata": {},
     "output_type": "execute_result"
    },
    {
     "data": {
      "image/png": "[encoded data removed]",
      "text/plain": [
       "<matplotlib.figure.Figure at 0x7ff83aa34ef0>"
      ]
     },
     "metadata": {},
     "output_type": "display_data"
    }
   ],
   "source": [
    "fig, ax = plt.subplots(1,1)\n",
    "ax.scatter(ysamsple_score, ytrain_cutoffs, s=30, c='blue', alpha=0.2, label='training set')\n",
    "ax.scatter(ytest_score, ytest_cutoffs + 0.2, s=30, c='green', alpha=0.2, label='test set')\n",
    "\n",
    "ax.legend(loc='upper left', prop={'size':10})\n",
    "ax.set_xlabel('predicted score')\n",
    "ax.set_ylabel('predicted category')"
   ]
  },
  {
   "cell_type": "markdown",
   "metadata": {},
   "source": [
    "# We define a function to fit and evaluate a model, incorporating the cutoff optimization step:"
   ]
  },
  {
   "cell_type": "code",
   "execution_count": 155,
   "metadata": {
    "collapsed": true
   },
   "outputs": [],
   "source": [
    "def xg_eval_linear_cuts_pred(features, labels, test_features, test_labels, param, num_round):\n",
    "    \n",
    "    features = np.asarray(features)\n",
    "    labels = np.asarray(labels)\n",
    "    \n",
    "    test_features = np.asarray(test_features)\n",
    "    test_labels = np.asarray(test_labels)\n",
    "    \n",
    "\n",
    "    xg_train = xgb.DMatrix(features, labels)\n",
    "    xg_test = xgb.DMatrix(test_features, test_labels)\n",
    "\n",
    "    bst = xgb.train(param, xg_train, num_round)\n",
    "    \n",
    "    # Here we learn the best cuttofs:\n",
    "    best_cutoffs = learn_cutoffs(bst.predict(xg_train), labels)\n",
    "    \n",
    "    # Classification is done with the best cuttofs\n",
    "    train_prediction = classify_with_cutoffs(bst.predict(xg_train), best_cutoffs)\n",
    "    test_prediction = classify_with_cutoffs(bst.predict(xg_test), best_cutoffs)\n",
    "    \n",
    "    return (bst, best_cutoffs,\n",
    "            quadratic_weighted_kappa(labels,np.array(train_prediction)),\n",
    "            quadratic_weighted_kappa(test_labels,np.array(test_prediction)), test_labels, test_prediction)\n"
   ]
  },
  {
   "cell_type": "markdown",
   "metadata": {},
   "source": [
    "We go ahead and train a model with 150 rounds:"
   ]
  },
  {
   "cell_type": "code",
   "execution_count": 158,
   "metadata": {
    "collapsed": false
   },
   "outputs": [
    {
     "name": "stdout",
     "output_type": "stream",
     "text": [
      "[[ 115  327  295  335  305  285  188   39]\n",
      " [  54  333  343  387  347  276  156   39]\n",
      " [   4   83  137   54   15   15   10    3]\n",
      " [   2   29  188  137   17   22   31   17]\n",
      " [   2   61  219  529  493  184  114   15]\n",
      " [   3   44  169  414  899 1168  512   89]\n",
      " [   0    4   25  129  443  859  775  224]\n",
      " [   0    0    4   41  185  886 2572 2165]]\n"
     ]
    },
    {
     "data": {
      "image/png": "[encoded data removed]",
      "text/plain": [
       "<matplotlib.figure.Figure at 0x7ff83a8ef828>"
      ]
     },
     "metadata": {},
     "output_type": "display_data"
    }
   ],
   "source": [
    "# xgboost parameters:\n",
    "param = {}\n",
    "\n",
    "# use softmax multi-class classification\n",
    "param['objective'] = 'reg:linear'\n",
    "\n",
    "param['eta'] = 0.05\n",
    "param['max_depth'] = 8\n",
    "param['min_child_weight'] = 200\n",
    "\n",
    "param['silent'] = 1\n",
    "param['nthread'] = 1\n",
    "\n",
    "\n",
    "features = data[data['train?'] == True].drop(['train?', 'Id', 'Response'], axis=1)\n",
    "labels = data[data['train?'] == True]['Response'].astype('int') -1 \n",
    "\n",
    "text = \"{} eta:{:0.2f}, max_depth:{:d},\\nmin_child_weight:{:0.2f}, num_round:{:02d}\".format(\n",
    "    param['objective'],\n",
    "    param['eta'], param['max_depth'], param['min_child_weight'], num_round)\n",
    "\n",
    "# Xtest, ytest will be saved for evaluating over a constant sized set:\n",
    "Xtrain, Xtest, ytrain, ytest = train_test_split(features, labels, train_size=0.70, random_state=17)\n",
    "\n",
    "\n",
    "Xsample, ysample = Xtrain, ytrain\n",
    "\n",
    "num_round = 150\n",
    "model, best_cutoffs, train_qwk, test_qwk, y, yhat = xg_eval_linear_cuts_pred(Xsample, ysample, Xtest, ytest, param, num_round)\n",
    "\n",
    "\n",
    "kappa_text = '$\\kappa_{{q,\\mathrm{{train}}}} = {:0.4f}$, '.format(train_qwk) + \\\n",
    "'$\\kappa_{{q,\\mathrm{{test}}}} = {:0.4f}$'.format(test_qwk)\n",
    "make_plot_eval(y, yhat, text, kappa_text)"
   ]
  },
  {
   "cell_type": "code",
   "execution_count": 159,
   "metadata": {
    "collapsed": false
   },
   "outputs": [
    {
     "data": {
      "text/plain": [
       "array([ 13.5673,  13.2133,   9.9518,  10.4772,   9.9239,  10.6484,\n",
       "        10.0627,  13.9127])"
      ]
     },
     "execution_count": 159,
     "metadata": {},
     "output_type": "execute_result"
    }
   ],
   "source": [
    "best_cutoffs"
   ]
  },
  {
   "cell_type": "markdown",
   "metadata": {},
   "source": [
    "## Submission:"
   ]
  },
  {
   "cell_type": "code",
   "execution_count": 160,
   "metadata": {
    "collapsed": false
   },
   "outputs": [
    {
     "data": {
      "text/html": [
       "<div>\n",
       "<table border=\"1\" class=\"dataframe\">\n",
       "  <thead>\n",
       "    <tr style=\"text-align: right;\">\n",
       "      <th></th>\n",
       "      <th>Response</th>\n",
       "    </tr>\n",
       "  </thead>\n",
       "  <tbody>\n",
       "    <tr>\n",
       "      <th>count</th>\n",
       "      <td>19765.000000</td>\n",
       "    </tr>\n",
       "    <tr>\n",
       "      <th>mean</th>\n",
       "      <td>5.650696</td>\n",
       "    </tr>\n",
       "    <tr>\n",
       "      <th>std</th>\n",
       "      <td>1.750624</td>\n",
       "    </tr>\n",
       "    <tr>\n",
       "      <th>min</th>\n",
       "      <td>1.000000</td>\n",
       "    </tr>\n",
       "    <tr>\n",
       "      <th>25%</th>\n",
       "      <td>4.000000</td>\n",
       "    </tr>\n",
       "    <tr>\n",
       "      <th>50%</th>\n",
       "      <td>6.000000</td>\n",
       "    </tr>\n",
       "    <tr>\n",
       "      <th>75%</th>\n",
       "      <td>7.000000</td>\n",
       "    </tr>\n",
       "    <tr>\n",
       "      <th>max</th>\n",
       "      <td>8.000000</td>\n",
       "    </tr>\n",
       "  </tbody>\n",
       "</table>\n",
       "</div>"
      ],
      "text/plain": [
       "           Response\n",
       "count  19765.000000\n",
       "mean       5.650696\n",
       "std        1.750624\n",
       "min        1.000000\n",
       "25%        4.000000\n",
       "50%        6.000000\n",
       "75%        7.000000\n",
       "max        8.000000"
      ]
     },
     "execution_count": 160,
     "metadata": {},
     "output_type": "execute_result"
    }
   ],
   "source": [
    "data = pd.read_csv('data_imputed.csv')\n",
    "\n",
    "features = data[data['train?'] == True].drop(['train?', 'Id', 'Response'], axis=1)\n",
    "labels = data[data['train?'] == True]['Response'].astype('int') -1 \n",
    "submission_features = data[data['train?'] == False].drop(['train?', 'Id', 'Response'], axis=1)\n",
    "\n",
    "\n",
    "xg_submission = xgb.DMatrix(submission_features)\n",
    "submission_prediction = model.predict(xg_submission)\n",
    "submission = classify_with_cutoffs(submission_prediction, best_cutoffs)\n",
    "\n",
    "submission_ids = data[data['train?'] == False]['Id']\n",
    "submission_df = pd.DataFrame({\"Id\": submission_ids, \"Response\": submission.astype('int') + 1})\n",
    "submission_df = submission_df.set_index('Id')\n",
    "submission_df.to_csv('step03_submission.csv')\n",
    "\n",
    "submission_df.describe()\n"
   ]
  },
  {
   "cell_type": "markdown",
   "metadata": {},
   "source": [
    "Let's check and see how many entries are different in the submissions from step 02 and step 03:"
   ]
  },
  {
   "cell_type": "code",
   "execution_count": 161,
   "metadata": {
    "collapsed": true
   },
   "outputs": [],
   "source": [
    "df02 = pd.read_csv('step02_submission.csv')\n",
    "df03 = pd.read_csv('step03_submission.csv')\n",
    "\n",
    "diff = pd.Series(df03['Response'].values - df02['Response'].values, name=\"03-02\")"
   ]
  },
  {
   "cell_type": "code",
   "execution_count": 163,
   "metadata": {
    "collapsed": false
   },
   "outputs": [
    {
     "name": "stdout",
     "output_type": "stream",
     "text": [
      "19765\n",
      "2460\n",
      "1869\n"
     ]
    }
   ],
   "source": [
    "print(len(diff))\n",
    "print(sum(diff>0))\n",
    "print(sum(diff<0))"
   ]
  },
  {
   "cell_type": "markdown",
   "metadata": {},
   "source": [
    "So in step03 we increased the category of 2460 observations and decreased the category of 1869 observations.  \n",
    "\n",
    "As it is shown below, the mean value of the categories where we increased the classification was 6.15 , and the mean value of the categories where we decreased the classification was 4.55.  "
   ]
  },
  {
   "cell_type": "code",
   "execution_count": 166,
   "metadata": {
    "collapsed": false
   },
   "outputs": [
    {
     "data": {
      "text/plain": [
       "count    2460.000000\n",
       "mean        6.157724\n",
       "std         1.202005\n",
       "min         1.000000\n",
       "25%         6.000000\n",
       "50%         7.000000\n",
       "75%         7.000000\n",
       "max         7.000000\n",
       "Name: Response, dtype: float64"
      ]
     },
     "execution_count": 166,
     "metadata": {},
     "output_type": "execute_result"
    }
   ],
   "source": [
    "df02[diff > 0]['Response'].describe()"
   ]
  },
  {
   "cell_type": "code",
   "execution_count": 167,
   "metadata": {
    "collapsed": false
   },
   "outputs": [
    {
     "data": {
      "text/plain": [
       "count    1869.000000\n",
       "mean        4.551097\n",
       "std         1.305230\n",
       "min         2.000000\n",
       "25%         4.000000\n",
       "50%         5.000000\n",
       "75%         5.000000\n",
       "max         8.000000\n",
       "Name: Response, dtype: float64"
      ]
     },
     "execution_count": 167,
     "metadata": {},
     "output_type": "execute_result"
    }
   ],
   "source": [
    "df02[diff < 0]['Response'].describe()"
   ]
  }
 ],
 "metadata": {
  "kernelspec": {
   "display_name": "Python 3",
   "language": "python",
   "name": "python3"
  },
  "language_info": {
   "codemirror_mode": {
    "name": "ipython",
    "version": 3
   },
   "file_extension": ".py",
   "mimetype": "text/x-python",
   "name": "python",
   "nbconvert_exporter": "python",
   "pygments_lexer": "ipython3",
   "version": "3.5.1"
  }
 },
 "nbformat": 4,
 "nbformat_minor": 0
}
